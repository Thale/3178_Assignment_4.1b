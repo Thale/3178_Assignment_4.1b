{
 "cells": [
  {
   "cell_type": "markdown",
   "metadata": {},
   "source": [
    "Problem​ ​Statement​ ​1:\n",
    "Write a Python program using function concept that maps list of words into a list of integers\n",
    "representing the lengths of the corresponding words.\n",
    "Hint:​ ​If a list [ ab,cde,erty] is passed on to the python function output should come as [2,3,4]\n",
    "Here 2,3 and 4 are the lengths of the words in the list.\n",
    "\n",
    "Problem​ ​Statement​ ​2:\n",
    "Write a Python function which takes a character (i.e. a string of length 1) and returns True if it is\n",
    "a vowel, False otherwise."
   ]
  },
  {
   "cell_type": "code",
   "execution_count": 23,
   "metadata": {},
   "outputs": [
    {
     "name": "stdout",
     "output_type": "stream",
     "text": [
      "Type a List of Words: Lets see how a longer list of words looks in this test!\n",
      "['Lets', 'see', 'how', 'a', 'longer', 'list', 'of', 'words', 'looks', 'in', 'this', 'test!']\n",
      "[4, 3, 3, 1, 6, 4, 2, 5, 5, 2, 4, 5]\n",
      "False\n",
      "True\n",
      "False\n",
      "False\n",
      "False\n",
      "True\n",
      "True\n",
      "False\n",
      "True\n",
      "False\n",
      "True\n",
      "False\n",
      "True\n",
      "False\n",
      "False\n",
      "True\n",
      "False\n",
      "False\n",
      "True\n",
      "False\n",
      "False\n",
      "True\n",
      "False\n",
      "False\n",
      "True\n",
      "False\n",
      "False\n",
      "False\n",
      "False\n",
      "True\n",
      "True\n",
      "False\n",
      "False\n",
      "True\n",
      "False\n",
      "False\n",
      "False\n",
      "True\n",
      "False\n",
      "False\n",
      "True\n",
      "False\n",
      "False\n",
      "False\n"
     ]
    }
   ],
   "source": [
    "\n",
    "\n",
    "def problem_statement_1(list_of_words):\n",
    "    try:\n",
    "        list_of_ints = []\n",
    "        for j in list_of_words:\n",
    "            list_of_ints = list_of_ints + [int(len(j))]\n",
    "        print(list_of_ints)\n",
    "        \n",
    "    except ValueError:\n",
    "        print(\"What kind of value error could this be? ...\")\n",
    "    \n",
    "\n",
    "def problem_statement_2(list_of_words):\n",
    "    for z in list_of_words:\n",
    "        #print(z)\n",
    "        for x in z:\n",
    "            new_x = check_character_if_vowel(x.lower())\n",
    "            print(new_x)\n",
    "            \n",
    "\n",
    "def get_list_of_words():\n",
    "    \n",
    "    list_of_words = []\n",
    "    x = input(\"Type a List of Words: \");\n",
    "    for i in x.split(\" \"):\n",
    "        list_of_words = list_of_words + [i]\n",
    "    print(list_of_words)\n",
    "    problem_statement_1(list_of_words)\n",
    "    problem_statement_2(list_of_words)\n",
    "\n",
    "\n",
    "def check_character_if_vowel(x):\n",
    "    if x == 'a':\n",
    "        return True\n",
    "    if x == 'e':\n",
    "        return True\n",
    "    if x == 'i':\n",
    "        return True\n",
    "    if x == 'o':\n",
    "        return True\n",
    "    if x == 'u':\n",
    "        return True\n",
    "    else: \n",
    "        return False\n",
    "\n",
    "get_list_of_words()\n"
   ]
  },
  {
   "cell_type": "code",
   "execution_count": null,
   "metadata": {},
   "outputs": [],
   "source": [
    "\n"
   ]
  }
 ],
 "metadata": {
  "kernelspec": {
   "display_name": "Python 3",
   "language": "python",
   "name": "python3"
  },
  "language_info": {
   "codemirror_mode": {
    "name": "ipython",
    "version": 3
   },
   "file_extension": ".py",
   "mimetype": "text/x-python",
   "name": "python",
   "nbconvert_exporter": "python",
   "pygments_lexer": "ipython3",
   "version": "3.6.4"
  }
 },
 "nbformat": 4,
 "nbformat_minor": 2
}
